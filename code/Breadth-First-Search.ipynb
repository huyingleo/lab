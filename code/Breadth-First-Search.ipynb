{
 "cells": [
  {
   "cell_type": "markdown",
   "metadata": {},
   "source": [
    "# Breadth First Search\n",
    "[Reference](http://blog.csdn.net/raphealguo/article/details/7523411)\n",
    "<img src=\"Breadth-First-Search.png\" height=\"420\" width=\"420\">"
   ]
  },
  {
   "cell_type": "code",
   "execution_count": 1,
   "metadata": {
    "collapsed": false
   },
   "outputs": [],
   "source": [
    "# from IPython.display import Image\n",
    "# Image(filename='Breadth-First-Search.png')"
   ]
  },
  {
   "cell_type": "code",
   "execution_count": 2,
   "metadata": {
    "collapsed": false
   },
   "outputs": [],
   "source": [
    "class Node(object):\n",
    "    def __init__(self,node_id):\n",
    "        self.node_id = node_id\n",
    "        self.neighbors = []\n",
    "        self.visited = False\n",
    "        self.enqueued = False\n",
    "        self.from_node = None\n",
    "        \n",
    "    def add_neighbor(self, node):\n",
    "        self.neighbors.append(node)\n",
    "        node.neighbors.append(self)\n",
    "        \n",
    "    def reset(self):\n",
    "        self.visited = False\n",
    "        self.enqueued = False"
   ]
  },
  {
   "cell_type": "code",
   "execution_count": 3,
   "metadata": {
    "collapsed": false
   },
   "outputs": [],
   "source": [
    "nodes = [Node(i) for i in range(7)]\n",
    "nodes[0].add_neighbor(nodes[1])\n",
    "nodes[0].add_neighbor(nodes[2])\n",
    "nodes[0].add_neighbor(nodes[3])\n",
    "nodes[1].add_neighbor(nodes[2])\n",
    "nodes[1].add_neighbor(nodes[3])\n",
    "nodes[1].add_neighbor(nodes[4])\n",
    "nodes[2].add_neighbor(nodes[6])\n",
    "nodes[3].add_neighbor(nodes[5])\n",
    "nodes[5].add_neighbor(nodes[6])"
   ]
  },
  {
   "cell_type": "code",
   "execution_count": 4,
   "metadata": {
    "collapsed": false
   },
   "outputs": [
    {
     "data": {
      "text/plain": [
       "[1, 2, 3]"
      ]
     },
     "execution_count": 4,
     "metadata": {},
     "output_type": "execute_result"
    }
   ],
   "source": [
    "[node.node_id for node in nodes[0].neighbors]"
   ]
  },
  {
   "cell_type": "code",
   "execution_count": 5,
   "metadata": {
    "collapsed": true
   },
   "outputs": [],
   "source": [
    "class Queue(object):\n",
    "    def __init__(self, start_node):\n",
    "        self.items = []\n",
    "        start_node.visited = True\n",
    "        start_node.enqueued = True\n",
    "        self.enqueue_neighbors(start_node)\n",
    "\n",
    "    def _enqueue(self, node, from_node):\n",
    "        self.items.insert(0,node)\n",
    "        node.enqueued = True\n",
    "        node.from_node = from_node\n",
    "        \n",
    "    def enqueue_neighbors(self, node):\n",
    "        for i in node.neighbors:\n",
    "            if i.enqueued == False:\n",
    "                self._enqueue(i, from_node=node)\n",
    "\n",
    "    def dequeue(self):\n",
    "        return self.items.pop()\n",
    "    \n",
    "    @property\n",
    "    def size(self):\n",
    "        return len(self.items)\n",
    "               \n",
    "    @property\n",
    "    def isEmpty(self):\n",
    "        return self.size == 0"
   ]
  },
  {
   "cell_type": "code",
   "execution_count": 6,
   "metadata": {
    "collapsed": false
   },
   "outputs": [],
   "source": [
    "_ = [node.reset() for node in nodes]"
   ]
  },
  {
   "cell_type": "code",
   "execution_count": 7,
   "metadata": {
    "collapsed": false
   },
   "outputs": [
    {
     "name": "stdout",
     "output_type": "stream",
     "text": [
      "[3, 2, 1]\n",
      "3\n",
      "False\n"
     ]
    }
   ],
   "source": [
    "queue = Queue(nodes[0])\n",
    "print [node.node_id for node in queue.items]\n",
    "print queue.size\n",
    "print queue.isEmpty"
   ]
  },
  {
   "cell_type": "code",
   "execution_count": 8,
   "metadata": {
    "collapsed": false
   },
   "outputs": [
    {
     "name": "stdout",
     "output_type": "stream",
     "text": [
      "[4, 3, 2, 1]\n"
     ]
    }
   ],
   "source": [
    "queue.enqueue_neighbors(nodes[1])\n",
    "print [node.node_id for node in queue.items]"
   ]
  },
  {
   "cell_type": "code",
   "execution_count": 9,
   "metadata": {
    "collapsed": false
   },
   "outputs": [
    {
     "name": "stdout",
     "output_type": "stream",
     "text": [
      "1\n",
      "[4, 3, 2]\n"
     ]
    }
   ],
   "source": [
    "node = queue.dequeue()\n",
    "print node.node_id\n",
    "print [node.node_id for node in queue.items]"
   ]
  },
  {
   "cell_type": "code",
   "execution_count": 10,
   "metadata": {
    "collapsed": false
   },
   "outputs": [],
   "source": [
    "def BFS(nodes, start, end):\n",
    "    path = []\n",
    "    path_found = False\n",
    "    [node.reset() for node in nodes]\n",
    "    queue = Queue(nodes[start])\n",
    "    while not queue.isEmpty:\n",
    "        node = queue.dequeue()\n",
    "        node.visited = True\n",
    "        if node.node_id == end:\n",
    "            path_found = True\n",
    "            print \"path found\"\n",
    "            break\n",
    "        else:\n",
    "            queue.enqueue_neighbors(node)\n",
    "    \n",
    "    if path_found:\n",
    "        node = nodes[end]\n",
    "        path.append(node.node_id)\n",
    "        while node.node_id != start:\n",
    "            node = node.from_node\n",
    "            path.append(node.node_id)\n",
    "    else:\n",
    "        print \"path not found\"\n",
    "        \n",
    "    return path[::-1]"
   ]
  },
  {
   "cell_type": "code",
   "execution_count": 11,
   "metadata": {
    "collapsed": false
   },
   "outputs": [
    {
     "name": "stdout",
     "output_type": "stream",
     "text": [
      "path found\n"
     ]
    },
    {
     "data": {
      "text/plain": [
       "[0, 2, 6]"
      ]
     },
     "execution_count": 11,
     "metadata": {},
     "output_type": "execute_result"
    }
   ],
   "source": [
    "BFS(nodes, 0, 6)"
   ]
  },
  {
   "cell_type": "code",
   "execution_count": 12,
   "metadata": {
    "collapsed": false
   },
   "outputs": [
    {
     "name": "stdout",
     "output_type": "stream",
     "text": [
      "path found\n"
     ]
    },
    {
     "data": {
      "text/plain": [
       "[4, 1, 2, 6]"
      ]
     },
     "execution_count": 12,
     "metadata": {},
     "output_type": "execute_result"
    }
   ],
   "source": [
    "BFS(nodes, 4, 6)"
   ]
  },
  {
   "cell_type": "code",
   "execution_count": 13,
   "metadata": {
    "collapsed": false
   },
   "outputs": [
    {
     "name": "stdout",
     "output_type": "stream",
     "text": [
      "path found\n"
     ]
    },
    {
     "data": {
      "text/plain": [
       "[5, 6, 2]"
      ]
     },
     "execution_count": 13,
     "metadata": {},
     "output_type": "execute_result"
    }
   ],
   "source": [
    "BFS(nodes, 5, 2)"
   ]
  },
  {
   "cell_type": "code",
   "execution_count": 14,
   "metadata": {
    "collapsed": false
   },
   "outputs": [
    {
     "name": "stdout",
     "output_type": "stream",
     "text": [
      "path not found\n"
     ]
    },
    {
     "data": {
      "text/plain": [
       "[]"
      ]
     },
     "execution_count": 14,
     "metadata": {},
     "output_type": "execute_result"
    }
   ],
   "source": [
    "BFS(nodes, 0, 9)"
   ]
  },
  {
   "cell_type": "code",
   "execution_count": null,
   "metadata": {
    "collapsed": true
   },
   "outputs": [],
   "source": []
  }
 ],
 "metadata": {
  "kernelspec": {
   "display_name": "Python 2",
   "language": "python",
   "name": "python2"
  },
  "language_info": {
   "codemirror_mode": {
    "name": "ipython",
    "version": 2
   },
   "file_extension": ".py",
   "mimetype": "text/x-python",
   "name": "python",
   "nbconvert_exporter": "python",
   "pygments_lexer": "ipython2",
   "version": "2.7.10"
  }
 },
 "nbformat": 4,
 "nbformat_minor": 0
}
