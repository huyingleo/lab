{
 "cells": [
  {
   "cell_type": "code",
   "execution_count": 1,
   "metadata": {
    "collapsed": true
   },
   "outputs": [],
   "source": [
    "import sys"
   ]
  },
  {
   "cell_type": "markdown",
   "metadata": {},
   "source": [
    "# Cavity Map"
   ]
  },
  {
   "cell_type": "code",
   "execution_count": 2,
   "metadata": {
    "collapsed": false
   },
   "outputs": [
    {
     "name": "stdout",
     "output_type": "stream",
     "text": [
      "4\n",
      "1112\n",
      "1912\n",
      "1892\n",
      "1234\n",
      "1112\n",
      "1X12\n",
      "18X2\n",
      "1234\n"
     ]
    }
   ],
   "source": [
    "n = int(raw_input().strip())\n",
    "grid = []\n",
    "grid_i = 0\n",
    "for grid_i in xrange(n):\n",
    "    grid_t = str(raw_input().strip())\n",
    "    grid.append(grid_t)\n",
    "    \n",
    "\n",
    "def is_cavity(grid,i,j):\n",
    "    max_neighbor = max(grid[i-1][j],grid[i+1][j],grid[i][j-1],grid[i][j+1])\n",
    "    if max_neighbor>=grid[i][j]:\n",
    "        return False    \n",
    "    return True\n",
    "\n",
    "\n",
    "for i in range(n):\n",
    "    line = ''\n",
    "    for j in range(n):\n",
    "        c = grid[i][j]\n",
    "        if (i in range(1,n-1)) and (j in range(1,n-1)):           \n",
    "            if is_cavity(grid, i,j):\n",
    "                c = 'X'\n",
    "        line += c\n",
    "    print line"
   ]
  },
  {
   "cell_type": "markdown",
   "metadata": {},
   "source": [
    "# The Grid Search"
   ]
  },
  {
   "cell_type": "code",
   "execution_count": 6,
   "metadata": {
    "collapsed": false
   },
   "outputs": [
    {
     "name": "stdout",
     "output_type": "stream",
     "text": [
      "1\n",
      "5 5\n",
      "23955\n",
      "55825\n",
      "53509\n",
      "02985\n",
      "20486\n",
      "1 2\n",
      "55\n",
      "YES\n"
     ]
    }
   ],
   "source": [
    "t = int(raw_input().strip())\n",
    "for a0 in xrange(t):\n",
    "    R,C = raw_input().strip().split(' ')\n",
    "    R,C = [int(R),int(C)]\n",
    "    G = []\n",
    "    G_i = 0\n",
    "    for G_i in xrange(R):\n",
    "        G_t = str(raw_input().strip())\n",
    "        G.append(G_t)\n",
    "    r,c = raw_input().strip().split(' ')\n",
    "    r,c = [int(r),int(c)]\n",
    "    P = []\n",
    "    P_i = 0\n",
    "    for P_i in xrange(r):\n",
    "        P_t = str(raw_input().strip())\n",
    "        P.append(P_t)\n",
    "        \n",
    "    flag = False\n",
    "    for Grow in range(R-r+1):\n",
    "        for Gcol in range(C-c+1):\n",
    "            flag = True\n",
    "            for Prow in range(r):\n",
    "                if P[Prow]!=G[Grow+Prow][Gcol:(Gcol+c)]:\n",
    "                    flag = False\n",
    "                    break\n",
    "            if flag:\n",
    "                break\n",
    "        if flag:\n",
    "            break\n",
    "    \n",
    "    if flag:\n",
    "        print 'YES'\n",
    "    else:\n",
    "        print 'NO'"
   ]
  },
  {
   "cell_type": "markdown",
   "metadata": {},
   "source": [
    "# Chocolate Feast"
   ]
  },
  {
   "cell_type": "code",
   "execution_count": 7,
   "metadata": {
    "collapsed": false
   },
   "outputs": [
    {
     "name": "stdout",
     "output_type": "stream",
     "text": [
      "3\n",
      "10 2 5\n",
      "6\n",
      "12 4 4\n",
      "3\n",
      "6 2 2\n",
      "5\n"
     ]
    }
   ],
   "source": [
    "t = int(raw_input().strip())\n",
    "for a0 in xrange(t):\n",
    "    n,c,m = raw_input().strip().split(' ')\n",
    "    n,c,m = [int(n),int(c),int(m)]\n",
    "    \n",
    "    chocolates = n/c\n",
    "    wrappers = chocolates\n",
    "\n",
    "    while wrappers>=m:\n",
    "        wrappers -= m\n",
    "        chocolates += +1\n",
    "        wrappers += 1\n",
    "    \n",
    "    print chocolates"
   ]
  },
  {
   "cell_type": "code",
   "execution_count": null,
   "metadata": {
    "collapsed": true
   },
   "outputs": [],
   "source": []
  }
 ],
 "metadata": {
  "kernelspec": {
   "display_name": "Python 2",
   "language": "python",
   "name": "python2"
  },
  "language_info": {
   "codemirror_mode": {
    "name": "ipython",
    "version": 2
   },
   "file_extension": ".py",
   "mimetype": "text/x-python",
   "name": "python",
   "nbconvert_exporter": "python",
   "pygments_lexer": "ipython2",
   "version": "2.7.10"
  }
 },
 "nbformat": 4,
 "nbformat_minor": 0
}
