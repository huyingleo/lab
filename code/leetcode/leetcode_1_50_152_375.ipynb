{
 "cells": [
  {
   "cell_type": "markdown",
   "metadata": {},
   "source": [
    "# 50. Pow(x, n)"
   ]
  },
  {
   "cell_type": "code",
   "execution_count": 1,
   "metadata": {
    "collapsed": true
   },
   "outputs": [],
   "source": [
    "class Solution50(object):\n",
    "    def myPow(self, x, n):\n",
    "        \"\"\"\n",
    "        :type x: float\n",
    "        :type n: int\n",
    "        :rtype: float\n",
    "        \"\"\"\n",
    "        if n==0:\n",
    "            return 1\n",
    "        elif n<0:\n",
    "            x = 1/x\n",
    "            n = -n\n",
    "            \n",
    "        if n>2:\n",
    "            return self.myPow(self.myPow(x,int(n/2)),2)*self.myPow(x,n%2)      \n",
    "        elif n==1:\n",
    "            return x\n",
    "        elif n==2:\n",
    "            return x*x"
   ]
  },
  {
   "cell_type": "code",
   "execution_count": 2,
   "metadata": {
    "collapsed": false
   },
   "outputs": [
    {
     "data": {
      "text/plain": [
       "700.2814829452681"
      ]
     },
     "execution_count": 2,
     "metadata": {},
     "output_type": "execute_result"
    }
   ],
   "source": [
    "s = Solution50()\n",
    "s.myPow(8.88023,3)"
   ]
  },
  {
   "cell_type": "markdown",
   "metadata": {},
   "source": [
    "# 375. Guess Number Higher or Lower II"
   ]
  },
  {
   "cell_type": "code",
   "execution_count": 3,
   "metadata": {
    "collapsed": true
   },
   "outputs": [],
   "source": [
    "class Solution375(object):\n",
    "    def getMoneyAmount(self, n):\n",
    "        \"\"\"\n",
    "        :type n: int\n",
    "        :rtype: int\n",
    "        \"\"\"\n",
    "        costs = {}\n",
    "        picked = {}\n",
    "        cost_upper = n*(n+1)/2 # upper bound of cost: sum of (1,2,...,n)\n",
    "        \n",
    "        for length in range(n+1):\n",
    "            for start in range(1,n+1):\n",
    "                end = start + length\n",
    "                if end>n:\n",
    "                    break\n",
    "                \n",
    "                if start==end:\n",
    "                    costs[(start,end)] = 0\n",
    "                    picked[(start,end)] = start\n",
    "                else:\n",
    "                    costs[(start,end)] = cost_upper\n",
    "                    for i in range(start, end+1):\n",
    "                        # Calculate cost of picking i from [start, end]\n",
    "                        # cost_pick_i = max((costs[(i+1,end)],costs[(start,i-1)]) + i\n",
    "                        cost_pick_i = 0\n",
    "                        cost_higher_than_i = 0\n",
    "                        cost_lower_than_i = 0\n",
    "                        if i+1<=end:\n",
    "                            cost_higher_than_i = costs[(i+1,end)]\n",
    "                        if i-1>=start:\n",
    "                            cost_lower_than_i = costs[(start,i-1)]\n",
    "                        \n",
    "                        cost_pick_i = max(cost_higher_than_i, cost_lower_than_i) + i\n",
    "                            \n",
    "                        if  cost_pick_i < costs[(start,end)]:\n",
    "                            costs[(start,end)] = cost_pick_i\n",
    "                            picked[(start,end)] = i        \n",
    "        self.costs = costs\n",
    "        self.picked = picked\n",
    "        return costs[(1,n)]"
   ]
  },
  {
   "cell_type": "code",
   "execution_count": 4,
   "metadata": {
    "collapsed": false
   },
   "outputs": [
    {
     "name": "stdout",
     "output_type": "stream",
     "text": [
      "1 loop, best of 3: 964 ms per loop\n"
     ]
    }
   ],
   "source": [
    "s = Solution375()\n",
    "%timeit s.getMoneyAmount(200)"
   ]
  },
  {
   "cell_type": "code",
   "execution_count": 5,
   "metadata": {
    "collapsed": false
   },
   "outputs": [
    {
     "name": "stdout",
     "output_type": "stream",
     "text": [
      "0\n",
      "1\n",
      "2\n",
      "4\n",
      "6\n",
      "8\n",
      "10\n"
     ]
    }
   ],
   "source": [
    "s = Solution375()\n",
    "print s.getMoneyAmount(1)\n",
    "print s.getMoneyAmount(2)\n",
    "print s.getMoneyAmount(3)\n",
    "print s.getMoneyAmount(4)\n",
    "print s.getMoneyAmount(5)\n",
    "print s.getMoneyAmount(6)\n",
    "print s.getMoneyAmount(7)"
   ]
  },
  {
   "cell_type": "code",
   "execution_count": 6,
   "metadata": {
    "collapsed": false
   },
   "outputs": [
    {
     "data": {
      "text/plain": [
       "{(1, 1): 0,\n",
       " (1, 2): 1,\n",
       " (1, 3): 2,\n",
       " (1, 4): 4,\n",
       " (1, 5): 6,\n",
       " (1, 6): 8,\n",
       " (2, 2): 0,\n",
       " (2, 3): 2,\n",
       " (2, 4): 3,\n",
       " (2, 5): 6,\n",
       " (2, 6): 8,\n",
       " (3, 3): 0,\n",
       " (3, 4): 3,\n",
       " (3, 5): 4,\n",
       " (3, 6): 8,\n",
       " (4, 4): 0,\n",
       " (4, 5): 4,\n",
       " (4, 6): 5,\n",
       " (5, 5): 0,\n",
       " (5, 6): 5,\n",
       " (6, 6): 0}"
      ]
     },
     "execution_count": 6,
     "metadata": {},
     "output_type": "execute_result"
    }
   ],
   "source": [
    "s.getMoneyAmount(6)\n",
    "s.costs"
   ]
  },
  {
   "cell_type": "code",
   "execution_count": 7,
   "metadata": {
    "collapsed": false
   },
   "outputs": [
    {
     "data": {
      "text/plain": [
       "{(1, 1): 1,\n",
       " (1, 2): 1,\n",
       " (1, 3): 2,\n",
       " (1, 4): 1,\n",
       " (1, 5): 2,\n",
       " (1, 6): 3,\n",
       " (2, 2): 2,\n",
       " (2, 3): 2,\n",
       " (2, 4): 3,\n",
       " (2, 5): 2,\n",
       " (2, 6): 3,\n",
       " (3, 3): 3,\n",
       " (3, 4): 3,\n",
       " (3, 5): 4,\n",
       " (3, 6): 3,\n",
       " (4, 4): 4,\n",
       " (4, 5): 4,\n",
       " (4, 6): 5,\n",
       " (5, 5): 5,\n",
       " (5, 6): 5,\n",
       " (6, 6): 6}"
      ]
     },
     "execution_count": 7,
     "metadata": {},
     "output_type": "execute_result"
    }
   ],
   "source": [
    "s.getMoneyAmount(6)\n",
    "s.picked"
   ]
  },
  {
   "cell_type": "markdown",
   "metadata": {},
   "source": [
    "# 1. Add Two Numbers"
   ]
  },
  {
   "cell_type": "code",
   "execution_count": 8,
   "metadata": {
    "collapsed": true
   },
   "outputs": [],
   "source": [
    "class Solution1(object):\n",
    "    def twoSum(self, nums, target):\n",
    "        \"\"\"\n",
    "        :type nums: List[int]\n",
    "        :type target: int\n",
    "        :rtype: List[int]\n",
    "        \"\"\"\n",
    "        for i in range(len(nums)):\n",
    "            for j in range(i+1, len(nums)):\n",
    "                if nums[i]+nums[j]==target:\n",
    "                    return [i, j]\n",
    "        return False"
   ]
  },
  {
   "cell_type": "code",
   "execution_count": 9,
   "metadata": {
    "collapsed": false
   },
   "outputs": [
    {
     "data": {
      "text/plain": [
       "[2, 5]"
      ]
     },
     "execution_count": 9,
     "metadata": {},
     "output_type": "execute_result"
    }
   ],
   "source": [
    "s = Solution1()\n",
    "s.twoSum([1,2,3,6,4,7], 10)"
   ]
  },
  {
   "cell_type": "markdown",
   "metadata": {},
   "source": [
    "# 152. Maximum Product Subarray"
   ]
  },
  {
   "cell_type": "code",
   "execution_count": 10,
   "metadata": {
    "collapsed": false
   },
   "outputs": [],
   "source": [
    "from functools import reduce\n",
    "import operator\n",
    "\n",
    "class Solution152(object):\n",
    "    def maxProduct(self, nums):\n",
    "        \"\"\"\n",
    "        :type nums: List[int]\n",
    "        :rtype: int\n",
    "        \"\"\"\n",
    "        if len(nums)==1:\n",
    "            return nums[0]\n",
    "        \n",
    "        zero_idx = []\n",
    "        [zero_idx.append(i) if nums[i]==0 else None for i in range(len(nums))]\n",
    "        \n",
    "        if len(zero_idx)==0:\n",
    "            subarray, max_product = self.maxProdcutValueNoZero(nums)\n",
    "            return max_product\n",
    "        \n",
    "        subarray_selected = nums\n",
    "        max_product = 0\n",
    "        \n",
    "        subarray = nums[:zero_idx[0]]\n",
    "        if len(subarray)>0:\n",
    "            subarray, product = self.maxProdcutValueNoZero(nums[:zero_idx[0]])\n",
    "            if product>max_product:\n",
    "                subarray_selected = subarray\n",
    "                max_product = product\n",
    "        \n",
    "        for i in range(len(zero_idx)):\n",
    "            start = zero_idx[i] + 1\n",
    "            if i==len(zero_idx)-1:\n",
    "                end = len(nums)\n",
    "            else:\n",
    "                end = zero_idx[i+1]\n",
    "            subarray = nums[start:end]  \n",
    "            if len(subarray)>0:   \n",
    "                subarray, product =  self.maxProdcutValueNoZero(subarray)         \n",
    "                if product>max_product:\n",
    "                    subarray_selected = subarray\n",
    "                    max_product = product\n",
    "        \n",
    "        return max_product\n",
    "\n",
    "\n",
    "    def maxProdcutValueNoZero(self, nums):\n",
    "        if len(nums)==1:\n",
    "            return nums, nums[0]\n",
    "        \n",
    "        negative_idx = []\n",
    "        [negative_idx.append(i) if nums[i]<0 else None for i in range(len(nums))]\n",
    "        if len(negative_idx)%2==0:\n",
    "            return nums, reduce(operator.mul, nums, 1)\n",
    "        \n",
    "        max_product = 1\n",
    "        subarray = nums\n",
    "        for b in negative_idx[::2]:\n",
    "            product_left = reduce(operator.mul, nums[:b], 1)\n",
    "            product_right = reduce(operator.mul, nums[(b+1):], 1)\n",
    "            \n",
    "            if product_left>=max_product and len(nums[:b])>0:\n",
    "                subarray = nums[:b]\n",
    "                max_product = product_left\n",
    "            if product_right>=max_product and len(nums[(b+1):])>0:\n",
    "                subarray = nums[(b+1):]\n",
    "                max_product = product_right\n",
    "        return subarray, max_product\n",
    "        \n",
    "        \n",
    "            "
   ]
  },
  {
   "cell_type": "code",
   "execution_count": 11,
   "metadata": {
    "collapsed": false
   },
   "outputs": [
    {
     "name": "stdout",
     "output_type": "stream",
     "text": [
      "-2\n",
      "0\n",
      "0\n",
      "0\n",
      "4\n",
      "3456\n",
      "3456\n"
     ]
    }
   ],
   "source": [
    "s = Solution152()\n",
    "print s.maxProduct([-2])\n",
    "print s.maxProduct([0,-2])\n",
    "print s.maxProduct([-2,0])\n",
    "print s.maxProduct([0,-2,0])\n",
    "print s.maxProduct([3,-1,4])\n",
    "print s.maxProduct([2,3,-2,4,-8,9,-6])\n",
    "print s.maxProduct([2,3,-2,4,-8,9,-6,0,4,-8,9,-6,0,4,-8,9,-6])"
   ]
  },
  {
   "cell_type": "code",
   "execution_count": null,
   "metadata": {
    "collapsed": true
   },
   "outputs": [],
   "source": []
  },
  {
   "cell_type": "code",
   "execution_count": null,
   "metadata": {
    "collapsed": true
   },
   "outputs": [],
   "source": []
  }
 ],
 "metadata": {
  "kernelspec": {
   "display_name": "Python 2",
   "language": "python",
   "name": "python2"
  },
  "language_info": {
   "codemirror_mode": {
    "name": "ipython",
    "version": 2
   },
   "file_extension": ".py",
   "mimetype": "text/x-python",
   "name": "python",
   "nbconvert_exporter": "python",
   "pygments_lexer": "ipython2",
   "version": "2.7.10"
  }
 },
 "nbformat": 4,
 "nbformat_minor": 0
}
