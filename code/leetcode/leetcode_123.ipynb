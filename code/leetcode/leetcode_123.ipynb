{
 "cells": [
  {
   "cell_type": "markdown",
   "metadata": {},
   "source": [
    "# 123. Best Time to Buy and Sell Stock III"
   ]
  },
  {
   "cell_type": "code",
   "execution_count": 21,
   "metadata": {
    "collapsed": false
   },
   "outputs": [],
   "source": [
    "import sys\n",
    "# print sys.getrecursionlimit()\n",
    "sys.setrecursionlimit(99999)"
   ]
  },
  {
   "cell_type": "code",
   "execution_count": 22,
   "metadata": {
    "collapsed": false
   },
   "outputs": [],
   "source": [
    "### Dedupe prices [5,2,2,2,4,2]->[5,2,4,2]\n",
    "### Romove monotone decreasing sequence [5,4,3,2,4]->[5,2]\n",
    "### store calculated subproblem: profit, min price, max price\n",
    "### profit[i,j] <= profit[i-1,j], so if profit[i-1,j]==0, then profit[i,j]=0\n",
    "### profit[i,j] <= profit[i,j+1], so if profit[i,j+1]==0, then profit[i,j]=0\n",
    "### the buy price must be local minimum.\n",
    "\n",
    "\n",
    "class Solution(object):\n",
    "    \n",
    "    def _maxProfitOneTrans(self, prices, start, end, profit_dict, min_price_idx_dict, max_price_idx_dict):\n",
    "        if profit_dict.has_key((start,end)):\n",
    "            return profit_dict[(start,end)]\n",
    "        elif profit_dict.get((start-1,end), None)==0:\n",
    "            profit_dict[(start,end)] = 0\n",
    "            return 0\n",
    "        elif profit_dict.get((start,end+1), None)==0:\n",
    "            profit_dict[(start,end)] = 0\n",
    "            return 0\n",
    "        \n",
    "        if len(prices[start:end])==0:\n",
    "            profit_dict[(start,end)] = 0\n",
    "            return 0\n",
    "        \n",
    "        if len(prices[start:end])==1:\n",
    "            profit_dict[(start,end)] = 0\n",
    "            if prices[start]>prices[end-1]:\n",
    "                min_price_idx_dict[(start,end)] = end-1\n",
    "            else:\n",
    "                min_price_idx_dict[(start,end)] = start\n",
    "            return 0\n",
    "        \n",
    "        if min_price_idx_dict.has_key((start,end-1)):\n",
    "            if prices[end-1]<prices[min_price_idx_dict[(start,end-1)]]:\n",
    "                min_price_idx = end-1\n",
    "            else:\n",
    "                min_price_idx = min_price_idx_dict[(start,end-1)]\n",
    "        elif min_price_idx_dict.has_key((start-1,end)):\n",
    "            if min_price_idx_dict[(start-1,end)]==start-1:                \n",
    "                min_price, min_price_idx_interval \\\n",
    "                    = min((price, day) for (day, price) in enumerate(prices[start:end]))\n",
    "                min_price_idx = min_price_idx_interval + start\n",
    "            else:\n",
    "                min_price_idx = min_price_idx_dict[(start-1,end)]\n",
    "        else:\n",
    "            min_price, min_price_idx_interval \\\n",
    "                = min((price, day) for (day, price) in enumerate(prices[start:end]))\n",
    "            min_price_idx = min_price_idx_interval + start\n",
    "        \n",
    "        min_price_idx_dict[(start,end)] = min_price_idx\n",
    "        min_price = prices[min_price_idx]\n",
    "        \n",
    "        if max_price_idx_dict.has_key((start+1,end-1)):\n",
    "            if prices[end-1]>prices[max_price_idx_dict[(start+1,end-1)]]:\n",
    "                max_price_idx = end-1\n",
    "            else:\n",
    "                max_price_idx = max_price_idx_dict[(start+1,end-1)]\n",
    "        elif max_price_idx_dict.has_key((start,end)):\n",
    "            if max_price_idx_dict[(start,end)]==start:\n",
    "                max_price, max_price_idx_interval \\\n",
    "                    = max((price, day) for (day, price) in enumerate(prices[start+1:end]))\n",
    "                max_price_idx = max_price_idx_interval + start + 1\n",
    "            else:\n",
    "                max_price_idx = max_price_idx_dict[(start,end)]\n",
    "        else:\n",
    "            max_price, max_price_idx_interval \\\n",
    "                = max((price, day) for (day, price) in enumerate(prices[start+1:end]))\n",
    "            max_price_idx = max_price_idx_interval + start + 1\n",
    "        \n",
    "        max_price_idx_dict[(start+1,end)] = max_price_idx\n",
    "        max_price = prices[max_price_idx]\n",
    "\n",
    "        if min_price_idx==start:\n",
    "            return max_price-min_price\n",
    "        \n",
    "        profit_left = self._maxProfitOneTrans(prices,start, min_price_idx, \n",
    "                           profit_dict, min_price_idx_dict, max_price_idx_dict)\n",
    "        profit_right = self._maxProfitOneTrans(prices,min_price_idx, end, \n",
    "                           profit_dict, min_price_idx_dict, max_price_idx_dict)\n",
    "        profit = max(profit_left, profit_right,0)\n",
    "        \n",
    "        profit_dict[(start,end)] = profit\n",
    "        return profit\n",
    "    \n",
    "    def maxProfit(self, prices):\n",
    "        \"\"\"\n",
    "        :type prices: List[int]\n",
    "        :rtype: int\n",
    "        \"\"\"\n",
    "        new_prices = prices[:1]\n",
    "        for i in range(1,len(prices)):\n",
    "            if prices[i]>prices[i-1]:\n",
    "                new_prices.append(prices[i])\n",
    "            elif prices[i]<prices[i-1]:\n",
    "                if i+1 > len(prices)-1:\n",
    "                    new_prices.append(prices[i])\n",
    "                elif prices[i]<=prices[i+1]:\n",
    "                    new_prices.append(prices[i])\n",
    "                \n",
    "        prices = new_prices\n",
    "        n = len(prices)\n",
    "        \n",
    "        max_profit = 0\n",
    "        profit_dict = {}\n",
    "        min_price_idx_dict = {}\n",
    "        max_price_idx_dict = {}\n",
    "        \n",
    "        for i in range(n):                \n",
    "            profit = self._maxProfitOneTrans(prices,0,i,profit_dict,\n",
    "                                             min_price_idx_dict, max_price_idx_dict) \\\n",
    "                   + self._maxProfitOneTrans(prices,i,n,profit_dict,\n",
    "                                             min_price_idx_dict, max_price_idx_dict)\n",
    "            if profit>max_profit:\n",
    "                max_profit=profit\n",
    "        return max_profit\n",
    "\n",
    "s1 = Solution()   "
   ]
  },
  {
   "cell_type": "code",
   "execution_count": 23,
   "metadata": {
    "collapsed": true
   },
   "outputs": [],
   "source": [
    "### Time Limit Exceeded ###\n",
    "class Solution(object):\n",
    "    def _maxProfitOneTrans(self, prices):\n",
    "        \"\"\"\n",
    "        :type prices: List[int]\n",
    "        :rtype: int\n",
    "        \"\"\"\n",
    "        n = len(prices)        \n",
    "        if n==0:\n",
    "            return 0    \n",
    "        \n",
    "        buy_price = prices[0]\n",
    "        sell_price = prices[0]\n",
    "        min_price = prices[0]\n",
    "        max_profit = 0\n",
    "                \n",
    "        for i in range(1,n):\n",
    "            if prices[i]>sell_price:\n",
    "                sell_price = prices[i]\n",
    "            \n",
    "            if prices[i]<min_price:\n",
    "                min_price = prices[i]\n",
    "            \n",
    "            temp_buy_price = min(prices[i-1],min_price) \n",
    "            profit = prices[i]-temp_buy_price\n",
    "            if profit>max_profit:\n",
    "                max_profit = profit\n",
    "                sell_price = prices[i]\n",
    "                buy_price = temp_buy_price\n",
    "        return (sell_price - buy_price)\n",
    "    \n",
    "    def maxProfit(self, prices):\n",
    "        new_prices = prices[:1]\n",
    "        for i in range(1,len(prices)):\n",
    "            if prices[i]>prices[i-1]:\n",
    "                new_prices.append(prices[i])\n",
    "            elif prices[i]<prices[i-1]:\n",
    "                if i+1 > len(prices)-1:\n",
    "                    new_prices.append(prices[i])\n",
    "                elif prices[i]<=prices[i+1]:\n",
    "                    new_prices.append(prices[i])\n",
    "                \n",
    "        prices = new_prices\n",
    "        n = len(prices)\n",
    "        \n",
    "        max_profit = 0\n",
    "        for i in range(n):\n",
    "            profit = self._maxProfitOneTrans(prices[:i]) \\\n",
    "                   + self._maxProfitOneTrans(prices[i:])\n",
    "            if profit>max_profit:\n",
    "                max_profit=profit       \n",
    "        return max_profit\n",
    "\n",
    "s2 = Solution()   "
   ]
  },
  {
   "cell_type": "code",
   "execution_count": 24,
   "metadata": {
    "collapsed": true
   },
   "outputs": [],
   "source": [
    "class Solution(object):\n",
    "    def _maxProfitOneTrans(self, prices):\n",
    "        n = len(prices)        \n",
    "        if n<=1:\n",
    "            return 0    \n",
    "        \n",
    "        min_price, min_price_day = min((price, day) for (day, price) in enumerate(prices))\n",
    "        if min_price_day==0:\n",
    "            return max(prices[1:])-min_price\n",
    "        \n",
    "        profit_left = self._maxProfitOneTrans(prices[: min_price_day])\n",
    "        profit_right = self._maxProfitOneTrans(prices[min_price_day:])\n",
    "        profit = max(profit_left, profit_right,0)\n",
    "        return profit\n",
    "    \n",
    "    def maxProfit(self, prices):\n",
    "        \"\"\"\n",
    "        :type prices: List[int]\n",
    "        :rtype: int\n",
    "        \"\"\"\n",
    "        new_prices = prices[:1]\n",
    "        for i in range(1,len(prices)):\n",
    "            if prices[i]>prices[i-1]:\n",
    "                new_prices.append(prices[i])\n",
    "            elif prices[i]<prices[i-1]:\n",
    "                if i+1 > len(prices)-1:\n",
    "                    new_prices.append(prices[i])\n",
    "                elif prices[i]<=prices[i+1]:\n",
    "                    new_prices.append(prices[i])\n",
    "                \n",
    "        prices = new_prices\n",
    "        n = len(prices)\n",
    "        \n",
    "        max_profit = 0\n",
    "        for i in range(n):\n",
    "            profit = self._maxProfitOneTrans(prices[:i]) \\\n",
    "                   + self._maxProfitOneTrans(prices[i:])\n",
    "            if profit>max_profit:\n",
    "                max_profit=profit\n",
    "        return max_profit\n",
    "\n",
    "s3 = Solution()   "
   ]
  },
  {
   "cell_type": "code",
   "execution_count": 25,
   "metadata": {
    "collapsed": true
   },
   "outputs": [],
   "source": [
    "\n",
    "class Solution(object):\n",
    "    def _maxProfitOneTrans(self, prices):\n",
    "        n = len(prices)        \n",
    "        if n<=1:\n",
    "            return 0    \n",
    "        \n",
    "        profit_buy_at_time0 = max(max(prices[1:])-prices[0], 0)\n",
    "        profit = max(self._maxProfitOneTrans(prices[1:]), profit_buy_at_time0)\n",
    "        return profit\n",
    "    \n",
    "    def maxProfit(self, prices):\n",
    "        \"\"\"\n",
    "        :type prices: List[int]\n",
    "        :rtype: int\n",
    "        \"\"\"\n",
    "        new_prices = prices[:1]\n",
    "        for i in range(1,len(prices)):\n",
    "            if prices[i]>prices[i-1]:\n",
    "                new_prices.append(prices[i])\n",
    "            elif prices[i]<prices[i-1]:\n",
    "                if i+1 > len(prices)-1:\n",
    "                    new_prices.append(prices[i])\n",
    "                elif prices[i]<=prices[i+1]:\n",
    "                    new_prices.append(prices[i])\n",
    "                \n",
    "        prices = new_prices\n",
    "        n = len(prices)\n",
    "        \n",
    "        max_profit = 0\n",
    "        for i in range(n):\n",
    "            profit = self._maxProfitOneTrans(prices[:i]) \\\n",
    "                   + self._maxProfitOneTrans(prices[i:])\n",
    "            if profit>max_profit:\n",
    "                max_profit=profit       \n",
    "        return max_profit\n",
    "\n",
    "s4 = Solution()"
   ]
  },
  {
   "cell_type": "code",
   "execution_count": 26,
   "metadata": {
    "collapsed": true
   },
   "outputs": [],
   "source": [
    "from operator import itemgetter\n",
    "\n",
    "class BTNode(object):\n",
    "    def __init__(self, data, left=None, right=None):\n",
    "        self.data = data\n",
    "        self.left = left\n",
    "        self.right = right\n",
    "\n",
    "\n",
    "class BTree(object):\n",
    "    def __init__(self, root): \n",
    "        self.root = root;\n",
    "          \n",
    "    def insert(self, data):\n",
    "        self.insertNode(data, self.root)\n",
    "          \n",
    "    def insertNode(self, data, btnode):\n",
    "        if btnode == None:\n",
    "            btnode = BTNode(data)\n",
    "        elif data < btnode.data:\n",
    "            if btnode.left == None:\n",
    "                btnode.left = BTNode(data)\n",
    "                return\n",
    "              \n",
    "            self.insertNode(data,btnode.left)\n",
    "        elif data > btnode.data:\n",
    "            if btnode.right == None:\n",
    "                btnode.right = BTNode(data)\n",
    "                return\n",
    "            \n",
    "            self.insertNode(data,btnode.right)\n",
    "    \n",
    "class Solution(object):\n",
    "    def _maxProfitOneTransInterval(self, prices, btnode, interval_start_day):\n",
    "        n = len(prices)        \n",
    "        if n<=1:\n",
    "            return 0    \n",
    "        \n",
    "        min_price_day = btnode.data - interval_start_day\n",
    "        # print min_price_day, btnode.data, interval_start_day\n",
    "        if min_price_day==0:\n",
    "            return max(prices[1:])-prices[0]\n",
    "        \n",
    "        if btnode.left is not None:\n",
    "            profit_left = self._maxProfitOneTransInterval(\n",
    "                prices[: min_price_day], btnode.left, interval_start_day)\n",
    "        else:\n",
    "            profit_left = 0\n",
    "        if btnode.right is not None:\n",
    "            profit_right = self._maxProfitOneTransInterval(\n",
    "                prices[min_price_day:], btnode, btnode.data)\n",
    "        else:\n",
    "            profit_right = 0\n",
    "            \n",
    "        profit = max(profit_left, profit_right,0)\n",
    "        return profit\n",
    "\n",
    "    \n",
    "    def _maxProfitOneTrans(self, prices):\n",
    "        min_price_index_tree = self._minPriceTree(prices)\n",
    "        if min_price_index_tree is not None:\n",
    "            return self._maxProfitOneTransInterval(prices, min_price_index_tree.root, 0)\n",
    "        else:\n",
    "            return 0 \n",
    "    \n",
    "    def _minPriceTree(self, prices):\n",
    "        min_price_days = [i[0] for i in sorted(enumerate(prices), key=itemgetter(1))]\n",
    "        if len(min_price_days)==0:\n",
    "            return None\n",
    "        root = BTNode(min_price_days[0])\n",
    "        btree = BTree(root)\n",
    "        [btree.insert(i) for i in min_price_days[1:]]\n",
    "        return btree\n",
    "    \n",
    "    def maxProfit(self, prices):\n",
    "        \"\"\"\n",
    "        :type prices: List[int]\n",
    "        :rtype: int\n",
    "        \"\"\"\n",
    "        new_prices = prices[:1]\n",
    "        for i in range(1,len(prices)):\n",
    "            if prices[i]>prices[i-1]:\n",
    "                new_prices.append(prices[i])\n",
    "            elif prices[i]<prices[i-1]:\n",
    "                if i+1 > len(prices)-1:\n",
    "                    new_prices.append(prices[i])\n",
    "                elif prices[i]<=prices[i+1]:\n",
    "                    new_prices.append(prices[i])\n",
    "                \n",
    "        prices = new_prices\n",
    "        n = len(prices)\n",
    "        \n",
    "        max_profit = 0\n",
    "        for i in range(n):\n",
    "            trans1_profit = self._maxProfitOneTrans(prices[:i])\n",
    "            trans2_profit = self._maxProfitOneTrans(prices[i:])\n",
    "            profit = trans1_profit + trans2_profit\n",
    "            if profit>max_profit:\n",
    "                max_profit=profit\n",
    "\n",
    "        return max_profit\n",
    "\n",
    "s5 = Solution()   "
   ]
  },
  {
   "cell_type": "code",
   "execution_count": 27,
   "metadata": {
    "collapsed": false
   },
   "outputs": [],
   "source": [
    "class Solution(object):\n",
    "    \n",
    "    def _maxProfitOneTrans(self, prices, start, end, profit_dict, max_sell_price_dict):\n",
    "        if profit_dict.has_key((start,end)):\n",
    "            return profit_dict[(start,end)]\n",
    "        \n",
    "        n = len(prices[start:end])\n",
    "        if n<=1:\n",
    "            return 0\n",
    "        \n",
    "        max_sell_price = max(prices[(start+1):end])\n",
    "        profit_buy_at_start = max(max_sell_price-prices[start], 0)\n",
    "        profit_not_buy_at_start = self._maxProfitOneTrans(prices,start+1,end,profit_dict, max_sell_price_dict)\n",
    "        profit = max(profit_buy_at_start, profit_not_buy_at_start)\n",
    "        \n",
    "        profit_dict[(start,end)] = profit\n",
    "        max_sell_price_dict[(start,end)] = max_sell_price\n",
    "        return profit    \n",
    "    \n",
    "    def maxProfit(self, prices):\n",
    "        \"\"\"\n",
    "        :type prices: List[int]\n",
    "        :rtype: int\n",
    "        \"\"\"\n",
    "        new_prices = prices[:1]\n",
    "        for i in range(1,len(prices)):\n",
    "            if prices[i]>prices[i-1]:\n",
    "                new_prices.append(prices[i])\n",
    "            elif prices[i]<prices[i-1]:\n",
    "                if i+1 > len(prices)-1:\n",
    "                    new_prices.append(prices[i])\n",
    "                elif prices[i]<=prices[i+1]:\n",
    "                    new_prices.append(prices[i])\n",
    "                \n",
    "        prices = new_prices\n",
    "        n = len(prices)\n",
    "        \n",
    "        max_profit = 0\n",
    "        profit_dict = {}\n",
    "        max_sell_price_dict = {}\n",
    "        \n",
    "        for i in range(n):\n",
    "            profit = self._maxProfitOneTrans(prices,0,i,profit_dict,max_sell_price_dict) \\\n",
    "                   + self._maxProfitOneTrans(prices,i,n,profit_dict,max_sell_price_dict)\n",
    "            if profit>max_profit:\n",
    "                max_profit=profit\n",
    "        return max_profit\n",
    "\n",
    "s6 = Solution()   "
   ]
  },
  {
   "cell_type": "code",
   "execution_count": 28,
   "metadata": {
    "collapsed": true
   },
   "outputs": [],
   "source": [
    "from random import randint\n",
    "prices = [randint(0,1000) for _ in range(5000)]"
   ]
  },
  {
   "cell_type": "code",
   "execution_count": 29,
   "metadata": {
    "collapsed": false
   },
   "outputs": [
    {
     "name": "stdout",
     "output_type": "stream",
     "text": [
      "CPU times: user 4.38 s, sys: 25.3 ms, total: 4.4 s\n",
      "Wall time: 4.46 s\n"
     ]
    },
    {
     "data": {
      "text/plain": [
       "2000"
      ]
     },
     "execution_count": 29,
     "metadata": {},
     "output_type": "execute_result"
    }
   ],
   "source": [
    "%time s1.maxProfit(prices)"
   ]
  },
  {
   "cell_type": "code",
   "execution_count": 30,
   "metadata": {
    "collapsed": false
   },
   "outputs": [
    {
     "name": "stdout",
     "output_type": "stream",
     "text": [
      "CPU times: user 9.16 s, sys: 52.7 ms, total: 9.22 s\n",
      "Wall time: 9.36 s\n"
     ]
    },
    {
     "data": {
      "text/plain": [
       "2000"
      ]
     },
     "execution_count": 30,
     "metadata": {},
     "output_type": "execute_result"
    }
   ],
   "source": [
    "%time s2.maxProfit(prices)"
   ]
  },
  {
   "cell_type": "code",
   "execution_count": 31,
   "metadata": {
    "collapsed": false
   },
   "outputs": [
    {
     "name": "stdout",
     "output_type": "stream",
     "text": [
      "CPU times: user 9.79 s, sys: 54.8 ms, total: 9.85 s\n",
      "Wall time: 10 s\n"
     ]
    },
    {
     "data": {
      "text/plain": [
       "2000"
      ]
     },
     "execution_count": 31,
     "metadata": {},
     "output_type": "execute_result"
    }
   ],
   "source": [
    "%time s3.maxProfit(prices)"
   ]
  },
  {
   "cell_type": "code",
   "execution_count": 32,
   "metadata": {
    "collapsed": false
   },
   "outputs": [
    {
     "name": "stdout",
     "output_type": "stream",
     "text": [
      "CPU times: user 9.49 s, sys: 92.2 ms, total: 9.58 s\n",
      "Wall time: 9.72 s\n"
     ]
    },
    {
     "data": {
      "text/plain": [
       "1992"
      ]
     },
     "execution_count": 32,
     "metadata": {},
     "output_type": "execute_result"
    }
   ],
   "source": [
    "%time s4.maxProfit(prices[:1000])"
   ]
  },
  {
   "cell_type": "code",
   "execution_count": 33,
   "metadata": {
    "collapsed": false
   },
   "outputs": [
    {
     "name": "stdout",
     "output_type": "stream",
     "text": [
      "CPU times: user 5.84 s, sys: 34.6 ms, total: 5.87 s\n",
      "Wall time: 5.97 s\n"
     ]
    },
    {
     "data": {
      "text/plain": [
       "1992"
      ]
     },
     "execution_count": 33,
     "metadata": {},
     "output_type": "execute_result"
    }
   ],
   "source": [
    "%time s5.maxProfit(prices[:1000])"
   ]
  },
  {
   "cell_type": "code",
   "execution_count": 34,
   "metadata": {
    "collapsed": false
   },
   "outputs": [
    {
     "name": "stdout",
     "output_type": "stream",
     "text": [
      "CPU times: user 5.16 s, sys: 92.3 ms, total: 5.25 s\n",
      "Wall time: 5.35 s\n"
     ]
    },
    {
     "data": {
      "text/plain": [
       "1992"
      ]
     },
     "execution_count": 34,
     "metadata": {},
     "output_type": "execute_result"
    }
   ],
   "source": [
    "%time s6.maxProfit(prices[:1000])"
   ]
  },
  {
   "cell_type": "code",
   "execution_count": null,
   "metadata": {
    "collapsed": true
   },
   "outputs": [],
   "source": []
  },
  {
   "cell_type": "code",
   "execution_count": null,
   "metadata": {
    "collapsed": true
   },
   "outputs": [],
   "source": []
  }
 ],
 "metadata": {
  "kernelspec": {
   "display_name": "Python 2",
   "language": "python",
   "name": "python2"
  },
  "language_info": {
   "codemirror_mode": {
    "name": "ipython",
    "version": 2
   },
   "file_extension": ".py",
   "mimetype": "text/x-python",
   "name": "python",
   "nbconvert_exporter": "python",
   "pygments_lexer": "ipython2",
   "version": "2.7.10"
  }
 },
 "nbformat": 4,
 "nbformat_minor": 0
}
